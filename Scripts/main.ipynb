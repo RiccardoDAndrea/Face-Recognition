{
 "cells": [
  {
   "cell_type": "code",
   "execution_count": 7,
   "metadata": {},
   "outputs": [],
   "source": [
    "import cv2\n",
    "\n",
    "# Path to the XML file containing the pre-trained Haar cascade classifier\n",
    "alg = '/Users/riccardo/Desktop/Repositorys_Github/Python_Face_Recognition/models/haarcascade_frontalface_default.xml'\n",
    "\n",
    "# Create a cascade classifier object\n",
    "haar_cascade = cv2.CascadeClassifier(alg)\n",
    "\n",
    "# Path to the image file\n",
    "file_name = '/Users/riccardo/Desktop/Repositorys_Github/Python_Face_Recognition/data/raw/faces.jpeg'\n",
    "\n",
    "# Load the image in grayscale\n",
    "img = cv2.imread(file_name, 0)\n",
    "\n",
    "# Detect faces in the grayscale image\n",
    "faces = haar_cascade.detectMultiScale(\n",
    "    img, scaleFactor=1.05, minNeighbors=2, minSize=(100,100)\n",
    ")\n",
    "\n",
    "# Loop through each detected face\n",
    "i = 0\n",
    "for x, y, w, h in faces:\n",
    "    # Crop the face region from the image\n",
    "    cropped_image = img[y : y + h, x : x + w]\n",
    "    # Save the cropped face as a new image file\n",
    "    target_file_name = '/Users/riccardo/Desktop/Repositorys_Github/Python_Face_Recognition/data/processed/face_' + str(i) + '.jpeg'\n",
    "    cv2.imwrite(target_file_name, cropped_image)\n",
    "    i += 1\n"
   ]
  }
 ],
 "metadata": {
  "kernelspec": {
   "display_name": "face",
   "language": "python",
   "name": "python3"
  },
  "language_info": {
   "codemirror_mode": {
    "name": "ipython",
    "version": 3
   },
   "file_extension": ".py",
   "mimetype": "text/x-python",
   "name": "python",
   "nbconvert_exporter": "python",
   "pygments_lexer": "ipython3",
   "version": "3.10.9"
  }
 },
 "nbformat": 4,
 "nbformat_minor": 2
}
